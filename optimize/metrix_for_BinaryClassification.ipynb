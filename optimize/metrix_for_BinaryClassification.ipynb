{
 "cells": [
  {
   "cell_type": "code",
   "execution_count": null,
   "metadata": {
    "collapsed": true
   },
   "outputs": [],
   "source": [
    "#refer: sklearn API Reference \n",
    "#https://scikit-learn.org/stable/modules/classes.html#module-sklearn.metrics"
   ]
  },
  {
   "cell_type": "code",
   "execution_count": 50,
   "metadata": {
    "collapsed": true
   },
   "outputs": [],
   "source": [
    "from sklearn.metrics import confusion_matrix, accuracy_score, precision_score, recall_score\n",
    "from sklearn.metrics import f1_score, fbeta_score, matthews_corrcoef\n",
    "import numpy as np"
   ]
  },
  {
   "cell_type": "code",
   "execution_count": 33,
   "metadata": {
    "collapsed": true
   },
   "outputs": [],
   "source": [
    "y_true = [1, 0, 1 , 1, 0, 1, 1, 0]\n",
    "y_pred = [1, 0, 1 , 1, 0, 0, 1, 1]"
   ]
  },
  {
   "cell_type": "code",
   "execution_count": 34,
   "metadata": {
    "collapsed": true
   },
   "outputs": [],
   "source": [
    "tp = np.sum((np.array(y_true) == 1) & (np.array(y_pred) == 1))\n",
    "fp = np.sum((np.array(y_true) == 0) & (np.array(y_pred) == 1))\n",
    "fn = np.sum((np.array(y_true) == 1) & (np.array(y_pred) == 0))\n",
    "tn = np.sum((np.array(y_true) == 0) & (np.array(y_pred) == 0))"
   ]
  },
  {
   "cell_type": "code",
   "execution_count": 35,
   "metadata": {
    "collapsed": true
   },
   "outputs": [],
   "source": [
    "confusion_matrix = np.array([[tp, fp], [fn, tn]])"
   ]
  },
  {
   "cell_type": "code",
   "execution_count": 37,
   "metadata": {},
   "outputs": [
    {
     "name": "stdout",
     "output_type": "stream",
     "text": [
      "accuracy: 0.75\n",
      "sklearn accuracy: 0.75\n"
     ]
    }
   ],
   "source": [
    "#accuracy\n",
    "accuracy = (tp + tn)/(tp + fp + fn + tn)\n",
    "print(\"accuracy:\", accuracy)\n",
    "print(\"sklearn accuracy:\", accuracy_score(y_true, y_pred))"
   ]
  },
  {
   "cell_type": "code",
   "execution_count": 40,
   "metadata": {},
   "outputs": [
    {
     "name": "stdout",
     "output_type": "stream",
     "text": [
      "precision: 0.8\n",
      "recall: 0.8\n",
      "sklearn precision: 0.8\n",
      "sklearn recall: 0.8\n"
     ]
    }
   ],
   "source": [
    "#precision & recall\n",
    "precision = tp / (tp + fp)\n",
    "recall =tp / (tp + fn)\n",
    "\n",
    "print(\"precision:\", precision)\n",
    "print(\"recall:\", recall)\n",
    "print(\"sklearn precision:\", precision_score(y_true, y_pred))\n",
    "print(\"sklearn recall:\", recall_score(y_true, y_pred))"
   ]
  },
  {
   "cell_type": "code",
   "execution_count": 48,
   "metadata": {},
   "outputs": [
    {
     "name": "stdout",
     "output_type": "stream",
     "text": [
      "f1 score: 0.8\n",
      "f_beta score: 0.8, beta = 1\n",
      "sklearn f1 score: 0.8\n",
      "sklearn f_beta score: 0.8000000000000002, beta = 1\n"
     ]
    }
   ],
   "source": [
    "#F1-score & F_beta-score\n",
    "f1 = 2 / (1/recall + 1/precision)\n",
    "\n",
    "beta = 1\n",
    "def f_beta(beta):\n",
    "    return (1 + beta**2) / (beta**2/recall + 1/precision)\n",
    "f_beta = f_beta(beta)\n",
    "\n",
    "print(\"f1 score:\", f1)\n",
    "print(f\"f_beta score: {f_beta}, beta = {beta}\")\n",
    "print(\"sklearn f1 score:\", f1_score(y_true, y_pred))\n",
    "print(f\"sklearn f_beta score: {fbeta_score(y_true, y_pred, beta)}, beta = {beta}\")"
   ]
  },
  {
   "cell_type": "code",
   "execution_count": 51,
   "metadata": {},
   "outputs": [
    {
     "name": "stdout",
     "output_type": "stream",
     "text": [
      "mcc: 0.466666666667\n",
      "sklearn mcc: 0.466666666667\n"
     ]
    }
   ],
   "source": [
    "mcc = (tp*tn - fp*fn) / ( (tp+fp)*(tp+fn)*(tn+fn)*(tn+fn) )**(1/2)\n",
    "print(\"mcc:\", mcc)\n",
    "print(\"sklearn mcc:\", matthews_corrcoef(y_true, y_pred))"
   ]
  }
 ],
 "metadata": {
  "kernelspec": {
   "display_name": "Python 3",
   "language": "python",
   "name": "python3"
  },
  "language_info": {
   "codemirror_mode": {
    "name": "ipython",
    "version": 3
   },
   "file_extension": ".py",
   "mimetype": "text/x-python",
   "name": "python",
   "nbconvert_exporter": "python",
   "pygments_lexer": "ipython3",
   "version": "3.6.3"
  }
 },
 "nbformat": 4,
 "nbformat_minor": 2
}
