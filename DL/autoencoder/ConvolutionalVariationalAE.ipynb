{
 "cells": [
  {
   "cell_type": "code",
   "execution_count": null,
   "metadata": {},
   "outputs": [],
   "source": [
    "import tensorflow as tf\n",
    "import tensorflow_datasets as tfds\n",
    "from tensorflow.keras.layers import Dense, InputLayer, Conv2D, Flatten, Reshape, Conv2DTranspose\n",
    "from tensorflow.keras import Model, layers\n",
    "import matplotlib.pyplot as plt\n",
    "import numpy as np"
   ]
  },
  {
   "cell_type": "code",
   "execution_count": null,
   "metadata": {},
   "outputs": [],
   "source": [
    "##Parameters\n",
    "batch_size = 128\n",
    "epochs =50"
   ]
  },
  {
   "cell_type": "code",
   "execution_count": null,
   "metadata": {},
   "outputs": [],
   "source": [
    "##Datasets\n",
    "#dataset, info = tfds.load('fashion_mnist', with_info=True, as_supervised=True)\n",
    "#mnist_train, mnist_test = dataset['train'], dataset['test']\n",
    "(mnist_train, _), (mnist_test, _) = tf.keras.datasets.mnist.load_data()\n",
    "\n",
    "#def convert_types(image):\n",
    "#    '''\n",
    "#    normarize image matrix, and reshape. (28, 29) -> (784,)\n",
    "#    '''\n",
    "mnist_train = mnist_train.reshape(mnist_train.shape[0], 28, 28, 1).astype('float32')\n",
    "mnist_test = mnist_test.reshape(mnist_test.shape[0], 28, 28, 1).astype('float32')\n",
    "mnist_train /= 255\n",
    "mnist_test /= 255\n",
    "mnist_train[mnist_train >= .5] = 1.\n",
    "mnist_train[mnist_train < .5] = 0.\n",
    "mnist_test[mnist_test >= .5] = 1.\n",
    "mnist_test[mnist_test < .5] = 0.\n",
    "\n",
    "mnist_train = tf.data.Dataset.from_tensor_slices(mnist_train).shuffle(10000).batch(batch_size)\n",
    "mnist_test = tf.data.Dataset.from_tensor_slices(mnist_test).shuffle(10000).batch(batch_size)"
   ]
  },
  {
   "cell_type": "code",
   "execution_count": null,
   "metadata": {},
   "outputs": [],
   "source": [
    "##Model\n",
    "class Encoder(layers.Layer):\n",
    "    def __init__(self):\n",
    "        super(Encoder, self).__init__()\n",
    "        #self.inputlayer = InputLayer(input_shape=784, batch_size=128, dtype='float32')\n",
    "        self.c1 = Conv2D(filters=32, kernel_size=3, strides=(2, 2), activation='relu')\n",
    "        self.c2 = Conv2D(filters=64, kernel_size=3, strides=(2, 2), activation='relu')\n",
    "        self.f = Flatten()\n",
    "        self.d1 = Dense(units=50)\n",
    "        self.d2 = Dense(units=50)\n",
    "    def call(self, x):\n",
    "        #x = self.inputlayer(x)\n",
    "        x = self.c1(x)\n",
    "        x = self.c2(x)\n",
    "        x = self.f(x)\n",
    "        mean = self.d1(x)\n",
    "        logvar = self.d2(x)\n",
    "        return mean, logvar\n",
    "    \n",
    "class ReparameterizationTrick(layers.Layer):\n",
    "    def __init__(self):\n",
    "        super(ReparameterizationTrick, self).__init__()\n",
    "    def call(self, mean, logvar):\n",
    "        eps = tf.random.normal(shape=mean.shape)\n",
    "        z = eps * tf.exp(logvar* .5) + mean\n",
    "        return z\n",
    "\n",
    "class Decoder(layers.Layer):\n",
    "    def __init__(self):\n",
    "        super(Decoder, self).__init__()\n",
    "        self.d3 = Dense(units=7*7*32, activation='relu')\n",
    "        self.r = Reshape(target_shape=(7, 7, 32))\n",
    "        self.c3 = Conv2DTranspose(\n",
    "              filters=64,\n",
    "              kernel_size=3,\n",
    "              strides=(2, 2),\n",
    "              padding=\"SAME\",\n",
    "              activation='relu')\n",
    "        self.c4 = Conv2DTranspose(\n",
    "              filters=32,\n",
    "              kernel_size=3,\n",
    "              strides=(2, 2),\n",
    "              padding=\"SAME\",\n",
    "              activation='relu')\n",
    "        self.c5 = Conv2DTranspose(filters=1, kernel_size=3, strides=(1, 1), padding=\"SAME\")\n",
    "    def call(self, z):\n",
    "        x = self.d3(z)\n",
    "        x = self.r(x)\n",
    "        x = self.c3(x)\n",
    "        x = self.c4(x)\n",
    "        x = self.c5(x)\n",
    "        return x\n",
    "\n",
    "class Autoencorder(Model):\n",
    "    def __init__(self):\n",
    "        super(Autoencorder, self).__init__()\n",
    "        self.encoder = Encoder()\n",
    "        self.decoder = Decoder()\n",
    "        self.reparameterizationtrick = ReparameterizationTrick()\n",
    "        \n",
    "    def call(self, x):        \n",
    "        mean, logvar = self.encoder(x)\n",
    "        z = self.reparameterizationtrick(mean, logvar)\n",
    "        reconstructed = self.decoder(z)\n",
    "        return reconstructed\n",
    "\n",
    "model = Autoencorder()"
   ]
  },
  {
   "cell_type": "code",
   "execution_count": null,
   "metadata": {},
   "outputs": [],
   "source": [
    "##Setting for optimize\n",
    "#refered: https://www.tensorflow.org/tutorials/generative/cvae#define_the_loss_function_and_the_optimizer\n",
    "optimizer = tf.keras.optimizers.Adam(1e-4)\n",
    "train_loss = tf.keras.metrics.Mean(name='train_loss')\n",
    "test_loss = tf.keras.metrics.Mean(name='test_loss')\n",
    "\n",
    "def log_normal_pdf(sample, mean, logvar, raxis=1):\n",
    "    log2pi = tf.math.log(2. * np.pi)\n",
    "    return tf.reduce_sum(\n",
    "      -.5 * ((sample - mean) ** 2. * tf.exp(-logvar) + logvar + log2pi),\n",
    "      axis=raxis)\n",
    "\n",
    "def compute_loss(model, x):\n",
    "    mean, logvar = model.encoder(x)\n",
    "    z = model.reparameterizationtrick(mean, logvar)\n",
    "    x_logit = model.decoder(z)\n",
    " \n",
    "    cross_ent = tf.nn.sigmoid_cross_entropy_with_logits(logits=x_logit, labels=x)\n",
    "    logpx_z = -tf.reduce_sum(cross_ent, axis=[1,2,3])\n",
    "    logpz = log_normal_pdf(z, 0., 0.)\n",
    "    logqz_x = log_normal_pdf(z, mean, logvar)\n",
    "    return -tf.reduce_mean(logpx_z + logpz - logqz_x)"
   ]
  },
  {
   "cell_type": "code",
   "execution_count": null,
   "metadata": {},
   "outputs": [],
   "source": [
    "##Define train & test\n",
    "@tf.function\n",
    "def train_step(image):\n",
    "     with tf.GradientTape() as tape:\n",
    "        \n",
    "        #ELBO\n",
    "        loss = compute_loss(model, image)\n",
    "\n",
    "        gradients = tape.gradient(loss, model.trainable_variables)\n",
    "        optimizer.apply_gradients(zip(gradients, model.trainable_variables))\n",
    "        train_loss(loss)\n",
    "        \n",
    "@tf.function\n",
    "def test_step(image):\n",
    "    predictions = model(image)\n",
    "    t_loss = tf.reduce_mean(tf.square(tf.subtract(predictions, image)))  \n",
    "    test_loss(t_loss)"
   ]
  },
  {
   "cell_type": "code",
   "execution_count": null,
   "metadata": {},
   "outputs": [],
   "source": [
    "##Do train & test\n",
    "for epoch in range(epochs):\n",
    "    for image in mnist_train:\n",
    "        train_step(image)\n",
    "  \n",
    "    for test_image in mnist_test:\n",
    "        test_step(test_image)\n",
    "  \n",
    "    template = 'Epoch {}, ELBO: {}'\n",
    "    print (template.format(epoch+1,\n",
    "                           - train_loss.result(), \n",
    "           )\n",
    "    )"
   ]
  },
  {
   "cell_type": "code",
   "execution_count": null,
   "metadata": {},
   "outputs": [],
   "source": [
    "##Test image\n",
    "test_image = [test_image for test_image in mnist_test]\n",
    "plt.imshow(np.array(test_image[0][3]).reshape(28, 28))\n",
    "plt.gray()"
   ]
  },
  {
   "cell_type": "code",
   "execution_count": null,
   "metadata": {},
   "outputs": [],
   "source": [
    "##Decorded Test image\n",
    "decorded_images = model(test_image[0])\n",
    "decorded_images[0]\n",
    "plt.imshow(np.array(decorded_images[3]).reshape(28, 28))\n",
    "plt.gray()"
   ]
  },
  {
   "cell_type": "code",
   "execution_count": null,
   "metadata": {},
   "outputs": [],
   "source": [
    "##Save model\n",
    "# refered  https://www.tensorflow.org/guide/saved_model\n",
    "tf.saved_model.save(model, \"./\")"
   ]
  }
 ],
 "metadata": {
  "kernelspec": {
   "display_name": "Python 3",
   "language": "python",
   "name": "python3"
  },
  "language_info": {
   "codemirror_mode": {
    "name": "ipython",
    "version": 3
   },
   "file_extension": ".py",
   "mimetype": "text/x-python",
   "name": "python",
   "nbconvert_exporter": "python",
   "pygments_lexer": "ipython3",
   "version": "3.7.4"
  }
 },
 "nbformat": 4,
 "nbformat_minor": 2
}
